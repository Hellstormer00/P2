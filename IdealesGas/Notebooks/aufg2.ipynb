{
 "cells": [
  {
   "cell_type": "code",
   "execution_count": 7,
   "metadata": {},
   "outputs": [
    {
     "data": {
      "text/html": [
       "<div>\n",
       "<style scoped>\n",
       "    .dataframe tbody tr th:only-of-type {\n",
       "        vertical-align: middle;\n",
       "    }\n",
       "\n",
       "    .dataframe tbody tr th {\n",
       "        vertical-align: top;\n",
       "    }\n",
       "\n",
       "    .dataframe thead th {\n",
       "        text-align: right;\n",
       "    }\n",
       "</style>\n",
       "<table border=\"1\" class=\"dataframe\">\n",
       "  <thead>\n",
       "    <tr style=\"text-align: right;\">\n",
       "      <th></th>\n",
       "      <th>h1_1[cm]</th>\n",
       "      <th>h2_1[cm]</th>\n",
       "      <th>h1_2[cm]</th>\n",
       "      <th>h2_2[cm]</th>\n",
       "      <th>dp1[mm]</th>\n",
       "      <th>dp2[mm]</th>\n",
       "      <th>kappa</th>\n",
       "    </tr>\n",
       "  </thead>\n",
       "  <tbody>\n",
       "    <tr>\n",
       "      <th>0</th>\n",
       "      <td>12.1</td>\n",
       "      <td>4.4</td>\n",
       "      <td>10.2</td>\n",
       "      <td>6.3</td>\n",
       "      <td>77.0</td>\n",
       "      <td>39.0</td>\n",
       "      <td>2.026316</td>\n",
       "    </tr>\n",
       "    <tr>\n",
       "      <th>1</th>\n",
       "      <td>10.0</td>\n",
       "      <td>6.5</td>\n",
       "      <td>9.7</td>\n",
       "      <td>7.3</td>\n",
       "      <td>35.0</td>\n",
       "      <td>24.0</td>\n",
       "      <td>3.181818</td>\n",
       "    </tr>\n",
       "    <tr>\n",
       "      <th>2</th>\n",
       "      <td>11.3</td>\n",
       "      <td>5.1</td>\n",
       "      <td>8.9</td>\n",
       "      <td>7.6</td>\n",
       "      <td>62.0</td>\n",
       "      <td>13.0</td>\n",
       "      <td>1.265306</td>\n",
       "    </tr>\n",
       "  </tbody>\n",
       "</table>\n",
       "</div>"
      ],
      "text/plain": [
       "   h1_1[cm]  h2_1[cm]  h1_2[cm]  h2_2[cm]  dp1[mm]  dp2[mm]     kappa\n",
       "0      12.1       4.4      10.2       6.3     77.0     39.0  2.026316\n",
       "1      10.0       6.5       9.7       7.3     35.0     24.0  3.181818\n",
       "2      11.3       5.1       8.9       7.6     62.0     13.0  1.265306"
      ]
     },
     "execution_count": 7,
     "metadata": {},
     "output_type": "execute_result"
    }
   ],
   "source": [
    "import os\n",
    "DIR = os.path.abspath('')\n",
    "DATA = os.path.join(DIR, '../Data')\n",
    "PLOTS = os.path.join(DIR, '../Plots')\n",
    "\n",
    "sns.set_style('whitegrid')\n",
    "\n",
    "data = pd.read_csv(os.path.join(DATA, 'aufg2.csv.txt'), comment='#', engine='python')#\n",
    "\n",
    "data['dp1[mm]'] = (data['h1_1[cm]'] - data['h2_1[cm]']) * 10\n",
    "data['dp2[mm]'] = (data['h1_2[cm]'] - data['h2_2[cm]']) * 10\n",
    "data['kappa'] = data['dp1[mm]'] / (data['dp1[mm]'] - data['dp2[mm]'])\n",
    "\n",
    "data"
   ]
  },
  {
   "cell_type": "code",
   "execution_count": 23,
   "metadata": {},
   "outputs": [
    {
     "data": {
      "text/plain": [
       "0.5412952604144866"
      ]
     },
     "execution_count": 23,
     "metadata": {},
     "output_type": "execute_result"
    }
   ],
   "source": [
    "dp_err = 0.2  # m\n",
    "\n",
    "kappa = data.mean().loc['kappa']\n",
    "kappa_stat = data.std().loc['kappa']\n",
    "kappa_sys = (abs(data['dp2[mm]']/ (data['dp1[mm]']- data['dp2[mm]']) ) * dp_err + abs(data['dp1[mm]']/ (data['dp1[mm]']- data['dp2[mm]']))*dp_err).mean()\n",
    "\n",
    "\n",
    "(kappa - 1.4)/1.4\n"
   ]
  },
  {
   "cell_type": "code",
   "execution_count": 11,
   "metadata": {},
   "outputs": [
    {
     "data": {
      "text/plain": [
       "58.0"
      ]
     },
     "execution_count": 11,
     "metadata": {},
     "output_type": "execute_result"
    }
   ],
   "source": []
  },
  {
   "cell_type": "code",
   "execution_count": null,
   "metadata": {},
   "outputs": [],
   "source": []
  }
 ],
 "metadata": {
  "kernelspec": {
   "display_name": "Python 3",
   "language": "python",
   "name": "python3"
  },
  "language_info": {
   "codemirror_mode": {
    "name": "ipython",
    "version": 3
   },
   "file_extension": ".py",
   "mimetype": "text/x-python",
   "name": "python",
   "nbconvert_exporter": "python",
   "pygments_lexer": "ipython3",
   "version": "3.7.4"
  }
 },
 "nbformat": 4,
 "nbformat_minor": 4
}
