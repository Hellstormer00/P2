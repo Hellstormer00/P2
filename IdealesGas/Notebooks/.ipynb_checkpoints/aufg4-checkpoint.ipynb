{
 "cells": [
  {
   "cell_type": "code",
   "execution_count": 47,
   "metadata": {},
   "outputs": [
    {
     "name": "stdout",
     "output_type": "stream",
     "text": [
      "[0, array([ 2.6  , -4.205, -0.665, -0.52 , -0.93 , -0.52 , -0.385, -2.655,\n",
      "        0.465,  0.685,  0.44 ,  0.49 ,  0.51 ,  0.91 ])]\n"
     ]
    }
   ],
   "source": [
    "import os\n",
    "DIR = os.path.abspath('')\n",
    "DATA = os.path.join(DIR, '../Data')\n",
    "PLOTS = os.path.join(DIR, '../Plots')\n",
    "\n",
    "sns.set_style('whitegrid')\n",
    "\n",
    "def dh(data, reference):\n",
    "    tmp = append(np.diff(data['h[cm]']))\n",
    "    # data['dp[Torr]'] = \n",
    "    print(tmp)\n",
    "    \n",
    "\n",
    "p0 = 753.8\n",
    "\n",
    "data = pd.read_csv(os.path.join(DATA, 'aufg4.csv'), comment='#', engine='python')\n",
    "data_rev = pd.read_csv(os.path.join(DATA, 'aufg4_rev.csv'), comment='#', engine='python')\n",
    "\n",
    "data['dp[Torr]'] = (32.955 - data['h[cm]'])/10\n",
    "data_rev['dp[Torr]'] = -(33.745 - data['h[cm]'])/10\n",
    "\n",
    "data = data.append(data_rev, ignore_index=True)\n",
    "data['T[K]'] = data['T[C]'] + 273.15\n",
    "dh(data, 32.955)"
   ]
  },
  {
   "cell_type": "code",
   "execution_count": 38,
   "metadata": {},
   "outputs": [
    {
     "data": {
      "image/png": "[encoded data removed]",
      "text/plain": [
       "<Figure size 432x288 with 1 Axes>"
      ]
     },
     "metadata": {},
     "output_type": "display_data"
    }
   ],
   "source": [
    "sns.scatterplot(x='T[K]', y='dp[Torr]', data=data)\n",
    "plt.savefig(os.path.join(PLOTS, 'aufg4_1.png'), dpi=200)"
   ]
  },
  {
   "cell_type": "code",
   "execution_count": null,
   "metadata": {},
   "outputs": [],
   "source": [
    "plt.scatter(data['T[K]'], (data['dp[Torr]'] + data_rev['dp[Torr]'])\n",
    "plt.savefig(os.path.join(PLOTS, 'aufg4_1.png'), dpi=200)"
   ]
  }
 ],
 "metadata": {
  "kernelspec": {
   "display_name": "Python 3",
   "language": "python",
   "name": "python3"
  },
  "language_info": {
   "codemirror_mode": {
    "name": "ipython",
    "version": 3
   },
   "file_extension": ".py",
   "mimetype": "text/x-python",
   "name": "python",
   "nbconvert_exporter": "python",
   "pygments_lexer": "ipython3",
   "version": "3.7.4"
  }
 },
 "nbformat": 4,
 "nbformat_minor": 4
}
