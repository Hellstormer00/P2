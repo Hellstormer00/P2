{
 "cells": [
  {
   "cell_type": "code",
   "execution_count": 3,
   "metadata": {},
   "outputs": [
    {
     "data": {
      "text/html": [
       "<div>\n",
       "<style scoped>\n",
       "    .dataframe tbody tr th:only-of-type {\n",
       "        vertical-align: middle;\n",
       "    }\n",
       "\n",
       "    .dataframe tbody tr th {\n",
       "        vertical-align: top;\n",
       "    }\n",
       "\n",
       "    .dataframe thead th {\n",
       "        text-align: right;\n",
       "    }\n",
       "</style>\n",
       "<table border=\"1\" class=\"dataframe\">\n",
       "  <thead>\n",
       "    <tr style=\"text-align: right;\">\n",
       "      <th></th>\n",
       "      <th>T[C]</th>\n",
       "      <th>h[cm]</th>\n",
       "    </tr>\n",
       "  </thead>\n",
       "  <tbody>\n",
       "    <tr>\n",
       "      <th>0</th>\n",
       "      <td>0.3</td>\n",
       "      <td>16.75</td>\n",
       "    </tr>\n",
       "    <tr>\n",
       "      <th>1</th>\n",
       "      <td>98.3</td>\n",
       "      <td>41.45</td>\n",
       "    </tr>\n",
       "  </tbody>\n",
       "</table>\n",
       "</div>"
      ],
      "text/plain": [
       "   T[C]  h[cm]\n",
       "0   0.3  16.75\n",
       "1  98.3  41.45"
      ]
     },
     "execution_count": 3,
     "metadata": {},
     "output_type": "execute_result"
    }
   ],
   "source": [
    "import os\n",
    "DIR = os.path.abspath('')\n",
    "DATA = os.path.join(DIR, '../Data')\n",
    "PLOTS = os.path.join(DIR, '../Plots')\n",
    "\n",
    "sns.set_style('whitegrid')\n",
    "\n",
    "def dh(data, reference):\n",
    "    tmp = np.diff(data['h[cm]'])\n",
    "    tmp = [reference - diff for diff in tmp]\n",
    "    tmp.insert(0, reference)\n",
    "    data['dp[Torr]'] = (tmp - data['h[cm]'])*10\n",
    "\n",
    "data = pd.read_csv(os.path.join(DATA, 'aufg1.csv.txt'), comment='#', engine='python')\n",
    "data"
   ]
  },
  {
   "cell_type": "code",
   "execution_count": 67,
   "metadata": {},
   "outputs": [
    {
     "data": {
      "text/plain": [
       "9.762266015684343"
      ]
     },
     "execution_count": 67,
     "metadata": {},
     "output_type": "execute_result"
    }
   ],
   "source": [
    "p0 = 753.8\n",
    "p0_err = 0.75\n",
    "\n",
    "p_E = p0 + (19.86 - data['h[cm]'][0])*10\n",
    "p_E_err = 2.75\n",
    "\n",
    "p_D = p0 - (19.86 - data['h[cm]'][1])*10\n",
    "p_D_err = 2.75\n",
    "\n",
    "T_raum = 273.15 + 25\n",
    "T_raum_err = 3\n",
    "\n",
    "v = 100 + 0.037 * (p0 - 760) - 2.2 * 10**-5 * (p0 - 760)**2\n",
    "v_err = 0.028\n",
    "\n",
    "alpha_unk = (p_D - p_E) / p_E * 1 / v\n",
    "alpha_unk_err = abs(1/(p_E * v))*p_D_err + abs(p_D - p_E)/(p_E * v**2)*v_err + 2e-5 # etwas korrigieren\n",
    "\n",
    "l = 0.525  # m\n",
    "l_err = 0.01  # m\n",
    "\n",
    "r_k = 0.00075  # m\n",
    "r_k_err = 0.00025  # m\n",
    "\n",
    "V_k = l * np.pi * r_k**2  # m\n",
    "V_k_err = np.pi * r_k**2 * l_err + 2 * l * r_k * np.pi * r_k_err\n",
    "\n",
    "r = 0.029  # m\n",
    "r_err = 0.0005  # m\n",
    "\n",
    "V = 4/3 * np.pi * r**3\n",
    "V_err = 4 * np.pi * r**2 * r_err\n",
    "\n",
    "alpha_korr = alpha_unk + p_D / p_E * (1.47 * 10**-5 + V_k / V * 1/T_raum)\n",
    "alpha_korr_err = alpha_unk_err + 0.118763e-5\n",
    "\n",
    "abs_zero = 1/alpha_korr\n",
    "abs_zero_err = 1/alpha_korr**2 * alpha_korr_err\n",
    "\n",
    "abs_zero_err"
   ]
  },
  {
   "cell_type": "code",
   "execution_count": null,
   "metadata": {},
   "outputs": [],
   "source": []
  }
 ],
 "metadata": {
  "kernelspec": {
   "display_name": "Python 3",
   "language": "python",
   "name": "python3"
  },
  "language_info": {
   "codemirror_mode": {
    "name": "ipython",
    "version": 3
   },
   "file_extension": ".py",
   "mimetype": "text/x-python",
   "name": "python",
   "nbconvert_exporter": "python",
   "pygments_lexer": "ipython3",
   "version": "3.7.4"
  }
 },
 "nbformat": 4,
 "nbformat_minor": 4
}
