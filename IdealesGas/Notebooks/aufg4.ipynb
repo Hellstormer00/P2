{
 "cells": [
  {
   "cell_type": "code",
   "execution_count": 92,
   "metadata": {},
   "outputs": [
    {
     "data": {
      "text/html": [
       "<div>\n",
       "<style scoped>\n",
       "    .dataframe tbody tr th:only-of-type {\n",
       "        vertical-align: middle;\n",
       "    }\n",
       "\n",
       "    .dataframe tbody tr th {\n",
       "        vertical-align: top;\n",
       "    }\n",
       "\n",
       "    .dataframe thead th {\n",
       "        text-align: right;\n",
       "    }\n",
       "</style>\n",
       "<table border=\"1\" class=\"dataframe\">\n",
       "  <thead>\n",
       "    <tr style=\"text-align: right;\">\n",
       "      <th></th>\n",
       "      <th>T[C]</th>\n",
       "      <th>h[cm]</th>\n",
       "      <th>dp[Torr]</th>\n",
       "      <th>T[K]</th>\n",
       "    </tr>\n",
       "  </thead>\n",
       "  <tbody>\n",
       "    <tr>\n",
       "      <th>0</th>\n",
       "      <td>9.25</td>\n",
       "      <td>27.9100</td>\n",
       "      <td>54.400</td>\n",
       "      <td>273.45</td>\n",
       "    </tr>\n",
       "    <tr>\n",
       "      <th>1</th>\n",
       "      <td>9.00</td>\n",
       "      <td>29.4425</td>\n",
       "      <td>23.750</td>\n",
       "      <td>275.95</td>\n",
       "    </tr>\n",
       "    <tr>\n",
       "      <th>2</th>\n",
       "      <td>8.90</td>\n",
       "      <td>27.6825</td>\n",
       "      <td>74.275</td>\n",
       "      <td>279.25</td>\n",
       "    </tr>\n",
       "    <tr>\n",
       "      <th>3</th>\n",
       "      <td>9.15</td>\n",
       "      <td>27.5700</td>\n",
       "      <td>58.925</td>\n",
       "      <td>282.35</td>\n",
       "    </tr>\n",
       "    <tr>\n",
       "      <th>4</th>\n",
       "      <td>9.10</td>\n",
       "      <td>27.5550</td>\n",
       "      <td>58.100</td>\n",
       "      <td>285.15</td>\n",
       "    </tr>\n",
       "    <tr>\n",
       "      <th>5</th>\n",
       "      <td>9.20</td>\n",
       "      <td>27.3450</td>\n",
       "      <td>62.150</td>\n",
       "      <td>288.45</td>\n",
       "    </tr>\n",
       "    <tr>\n",
       "      <th>6</th>\n",
       "      <td>9.50</td>\n",
       "      <td>27.5400</td>\n",
       "      <td>56.150</td>\n",
       "      <td>292.15</td>\n",
       "    </tr>\n",
       "    <tr>\n",
       "      <th>7</th>\n",
       "      <td>NaN</td>\n",
       "      <td>NaN</td>\n",
       "      <td>NaN</td>\n",
       "      <td>294.05</td>\n",
       "    </tr>\n",
       "  </tbody>\n",
       "</table>\n",
       "</div>"
      ],
      "text/plain": [
       "   T[C]    h[cm]  dp[Torr]    T[K]\n",
       "0  9.25  27.9100    54.400  273.45\n",
       "1  9.00  29.4425    23.750  275.95\n",
       "2  8.90  27.6825    74.275  279.25\n",
       "3  9.15  27.5700    58.925  282.35\n",
       "4  9.10  27.5550    58.100  285.15\n",
       "5  9.20  27.3450    62.150  288.45\n",
       "6  9.50  27.5400    56.150  292.15\n",
       "7   NaN      NaN       NaN  294.05"
      ]
     },
     "execution_count": 92,
     "metadata": {},
     "output_type": "execute_result"
    }
   ],
   "source": [
    "### import os\n",
    "DIR = os.path.abspath('')\n",
    "DATA = os.path.join(DIR, '../Data')\n",
    "PLOTS = os.path.join(DIR, '../Plots')\n",
    "\n",
    "sns.set_style('whitegrid')\n",
    "\n",
    "def dh(data, reference):\n",
    "    tmp = np.diff(data['h[cm]'])\n",
    "    tmp = [reference - diff for diff in tmp]\n",
    "    tmp.insert(0, reference)\n",
    "    data['dp[Torr]'] = (tmp - data['h[cm]'])*10\n",
    "    \n",
    "\n",
    "p0 = 753.8\n",
    "\n",
    "data = pd.read_csv(os.path.join(DATA, 'aufg4.csv'), comment='#', engine='python')\n",
    "data_rev = pd.read_csv(os.path.join(DATA, 'aufg4_rev.csv'), comment='#', engine='python')\n",
    "\n",
    "dh(data, 32.955)\n",
    "dh(data_rev, 33.745)\n",
    "\n",
    "data_ges = (data + data_rev.iloc[::-1]) / 2\n",
    "\n",
    "data = data.append(data_rev, ignore_index=True)\n",
    "\n",
    "data['T[K]'] = data['T[C]'] + 273.15\n",
    "data_ges['T[K]'] = data['T[C]'] + 273.15\n",
    "\n",
    "\n",
    "data = data.drop(1)\n",
    "data_ges"
   ]
  },
  {
   "cell_type": "code",
   "execution_count": 93,
   "metadata": {},
   "outputs": [
    {
     "data": {
      "image/png": "[encoded data removed]",
      "text/plain": [
       "<Figure size 432x288 with 1 Axes>"
      ]
     },
     "metadata": {},
     "output_type": "display_data"
    }
   ],
   "source": [
    "sns.regplot(x='T[K]', y='dp[Torr]', data=data)\n",
    "plt.savefig(os.path.join(PLOTS, 'aufg4_1.png'), dpi=200)"
   ]
  },
  {
   "cell_type": "code",
   "execution_count": 91,
   "metadata": {},
   "outputs": [
    {
     "data": {
      "text/plain": [
       "<matplotlib.axes._subplots.AxesSubplot at 0x12be65890>"
      ]
     },
     "execution_count": 91,
     "metadata": {},
     "output_type": "execute_result"
    },
    {
     "data": {
      "image/png": "[encoded data removed]",
      "text/plain": [
       "<Figure size 432x288 with 1 Axes>"
      ]
     },
     "metadata": {},
     "output_type": "display_data"
    }
   ],
   "source": [
    "sns.scatterplot(x='T[K]', y='dp[Torr]', data=data_ges[:-1])"
   ]
  },
  {
   "cell_type": "code",
   "execution_count": null,
   "metadata": {},
   "outputs": [],
   "source": []
  }
 ],
 "metadata": {
  "kernelspec": {
   "display_name": "Python 3",
   "language": "python",
   "name": "python3"
  },
  "language_info": {
   "codemirror_mode": {
    "name": "ipython",
    "version": 3
   },
   "file_extension": ".py",
   "mimetype": "text/x-python",
   "name": "python",
   "nbconvert_exporter": "python",
   "pygments_lexer": "ipython3",
   "version": "3.7.4"
  }
 },
 "nbformat": 4,
 "nbformat_minor": 4
}
