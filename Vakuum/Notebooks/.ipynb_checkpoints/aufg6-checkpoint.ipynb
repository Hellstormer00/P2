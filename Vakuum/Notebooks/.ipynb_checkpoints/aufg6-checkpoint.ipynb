{
 "cells": [
  {
   "cell_type": "code",
   "execution_count": 2,
   "metadata": {},
   "outputs": [
    {
     "data": {
      "text/html": [
       "<div>\n",
       "<style scoped>\n",
       "    .dataframe tbody tr th:only-of-type {\n",
       "        vertical-align: middle;\n",
       "    }\n",
       "\n",
       "    .dataframe tbody tr th {\n",
       "        vertical-align: top;\n",
       "    }\n",
       "\n",
       "    .dataframe thead th {\n",
       "        text-align: right;\n",
       "    }\n",
       "</style>\n",
       "<table border=\"1\" class=\"dataframe\">\n",
       "  <thead>\n",
       "    <tr style=\"text-align: right;\">\n",
       "      <th></th>\n",
       "      <th>p3[mbar]</th>\n",
       "      <th>U[kV]</th>\n",
       "    </tr>\n",
       "  </thead>\n",
       "  <tbody>\n",
       "    <tr>\n",
       "      <th>0</th>\n",
       "      <td>1000.0</td>\n",
       "      <td>4.59</td>\n",
       "    </tr>\n",
       "    <tr>\n",
       "      <th>1</th>\n",
       "      <td>470.0</td>\n",
       "      <td>1.45</td>\n",
       "    </tr>\n",
       "    <tr>\n",
       "      <th>2</th>\n",
       "      <td>259.0</td>\n",
       "      <td>1.42</td>\n",
       "    </tr>\n",
       "  </tbody>\n",
       "</table>\n",
       "</div>"
      ],
      "text/plain": [
       "   p3[mbar]  U[kV]\n",
       "0    1000.0   4.59\n",
       "1     470.0   1.45\n",
       "2     259.0   1.42"
      ]
     },
     "execution_count": 2,
     "metadata": {},
     "output_type": "execute_result"
    }
   ],
   "source": [
    "import os\n",
    "from scipy.odr import *\n",
    "DIR = os.path.abspath('')\n",
    "DATA = os.path.join(DIR, '../Data/aufg6.csv')\n",
    "PLOTS = os.path.join(DIR, '../Plots')\n",
    "\n",
    "sns.set_style('whitegrid')\n",
    "\n",
    "def p_fit(name, mean, einheit):\n",
    "    print(\"{} = {:.3f} {}\".format(name, mean, einheit))\n",
    "    \n",
    "def lin_fit(x, y):\n",
    "    return np.polyfit(x, y, 1)[0]\n",
    "\n",
    "data = pd.read_csv(DATA, comment='#', engine='python')\n",
    "data.head(3)"
   ]
  },
  {
   "cell_type": "code",
   "execution_count": 14,
   "metadata": {},
   "outputs": [
    {
     "data": {
      "image/png": "[encoded data removed]",
      "text/plain": [
       "<Figure size 432x288 with 1 Axes>"
      ]
     },
     "metadata": {},
     "output_type": "display_data"
    }
   ],
   "source": [
    "from scipy.interpolate import interp1d\n",
    "ip = interp1d(data['p3[mbar]'], data['U[kV]'], 'quadratic')\n",
    "\n",
    "ax = plt.axes(xscale=\"log\", xlim=(1e-3, 2e3))\n",
    "sns.scatterplot('p3[mbar]', 'U[kV]', data=data, marker='x')\n",
    "\n",
    "x = np.linspace(data['p3[mbar]'][0], data['p3[mbar]'][len(data) - 1], 10000)\n",
    "plt.plot(x, ip(x), '--')\n",
    "plt.savefig(os.path.join(PLOTS, 'aufg6.png'), dpi=200)"
   ]
  },
  {
   "cell_type": "code",
   "execution_count": null,
   "metadata": {},
   "outputs": [],
   "source": []
  }
 ],
 "metadata": {
  "kernelspec": {
   "display_name": "Python 3",
   "language": "python",
   "name": "python3"
  },
  "language_info": {
   "codemirror_mode": {
    "name": "ipython",
    "version": 3
   },
   "file_extension": ".py",
   "mimetype": "text/x-python",
   "name": "python",
   "nbconvert_exporter": "python",
   "pygments_lexer": "ipython3",
   "version": "3.7.4"
  }
 },
 "nbformat": 4,
 "nbformat_minor": 4
}
