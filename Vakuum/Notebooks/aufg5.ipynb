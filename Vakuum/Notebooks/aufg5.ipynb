{
 "cells": [
  {
   "cell_type": "code",
   "execution_count": 3,
   "metadata": {},
   "outputs": [
    {
     "data": {
      "text/html": [
       "<div>\n",
       "<style scoped>\n",
       "    .dataframe tbody tr th:only-of-type {\n",
       "        vertical-align: middle;\n",
       "    }\n",
       "\n",
       "    .dataframe tbody tr th {\n",
       "        vertical-align: top;\n",
       "    }\n",
       "\n",
       "    .dataframe thead th {\n",
       "        text-align: right;\n",
       "    }\n",
       "</style>\n",
       "<table border=\"1\" class=\"dataframe\">\n",
       "  <thead>\n",
       "    <tr style=\"text-align: right;\">\n",
       "      <th></th>\n",
       "      <th>p3[mbar]</th>\n",
       "      <th>ln(p)</th>\n",
       "      <th>Iteration</th>\n",
       "    </tr>\n",
       "  </thead>\n",
       "  <tbody>\n",
       "    <tr>\n",
       "      <th>0</th>\n",
       "      <td>3.95</td>\n",
       "      <td>1.373716</td>\n",
       "      <td>0</td>\n",
       "    </tr>\n",
       "    <tr>\n",
       "      <th>1</th>\n",
       "      <td>7.10</td>\n",
       "      <td>1.960095</td>\n",
       "      <td>1</td>\n",
       "    </tr>\n",
       "    <tr>\n",
       "      <th>2</th>\n",
       "      <td>10.90</td>\n",
       "      <td>2.388763</td>\n",
       "      <td>2</td>\n",
       "    </tr>\n",
       "  </tbody>\n",
       "</table>\n",
       "</div>"
      ],
      "text/plain": [
       "   p3[mbar]     ln(p)  Iteration\n",
       "0      3.95  1.373716          0\n",
       "1      7.10  1.960095          1\n",
       "2     10.90  2.388763          2"
      ]
     },
     "execution_count": 3,
     "metadata": {},
     "output_type": "execute_result"
    }
   ],
   "source": [
    "import os\n",
    "from scipy.odr import *\n",
    "DIR = os.path.abspath('')\n",
    "DATA = os.path.join(DIR, '../Data/aufg5.csv')\n",
    "PLOTS = os.path.join(DIR, '../Plots')\n",
    "\n",
    "sns.set_style('whitegrid')\n",
    "\n",
    "def p_fit(name, mean, einheit):\n",
    "    print(\"{} = {:.3f} {}\".format(name, mean, einheit))\n",
    "    \n",
    "def lin_fit(x, y):\n",
    "    return np.polyfit(x, y, 1)[0]\n",
    "\n",
    "data = pd.read_csv(DATA, comment='#', engine='python')\n",
    "data['ln(p)'] = np.log(data['p3[mbar]'])\n",
    "data['Iteration'] = data.index\n",
    "data.head(3)"
   ]
  },
  {
   "cell_type": "code",
   "execution_count": 9,
   "metadata": {},
   "outputs": [
    {
     "data": {
      "image/png": "[encoded data removed]",
      "text/plain": [
       "<Figure size 432x288 with 1 Axes>"
      ]
     },
     "metadata": {},
     "output_type": "display_data"
    }
   ],
   "source": [
    "sns.regplot('Iteration', 'p3[mbar]', data=data, marker='x')\n",
    "plt.savefig(os.path.join(PLOTS, 'aufg5.png'), dpi=200)"
   ]
  },
  {
   "cell_type": "code",
   "execution_count": 17,
   "metadata": {},
   "outputs": [
    {
     "name": "stdout",
     "output_type": "stream",
     "text": [
      "dp = 4.646 mbar\n",
      "V_res = 0.046 l\n"
     ]
    }
   ],
   "source": [
    "dp = lin_fit(data['Iteration'], data['p3[mbar]'])\n",
    "V_res = dp * 10 / 1013\n",
    "p_fit('dp', dp, 'mbar')\n",
    "p_fit('V_res', V_res, 'l')"
   ]
  },
  {
   "cell_type": "code",
   "execution_count": null,
   "metadata": {},
   "outputs": [],
   "source": []
  }
 ],
 "metadata": {
  "kernelspec": {
   "display_name": "Python 3",
   "language": "python",
   "name": "python3"
  },
  "language_info": {
   "codemirror_mode": {
    "name": "ipython",
    "version": 3
   },
   "file_extension": ".py",
   "mimetype": "text/x-python",
   "name": "python",
   "nbconvert_exporter": "python",
   "pygments_lexer": "ipython3",
   "version": "3.7.4"
  }
 },
 "nbformat": 4,
 "nbformat_minor": 4
}
