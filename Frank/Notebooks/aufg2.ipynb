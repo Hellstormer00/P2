{
 "cells": [
  {
   "cell_type": "code",
   "execution_count": 39,
   "metadata": {},
   "outputs": [],
   "source": [
    "import os \n",
    "from scipy.signal import argrelmax\n",
    "DIR = os.path.abspath('')\n",
    "DATA = os.path.join(DIR, '../Data')\n",
    "PLOTS = os.path.join(DIR, '../Plots')\n",
    "U = 2  # V\n",
    "\n",
    "sns.set_style('whitegrid')\n",
    "\n",
    "data = pd.read_csv(os.path.join(DATA, 'aufg2.csv'), comment='#')[::100].astype(float)"
   ]
  },
  {
   "cell_type": "code",
   "execution_count": 42,
   "metadata": {},
   "outputs": [
    {
     "data": {
      "image/png": "[encoded data removed]",
      "text/plain": [
       "<Figure size 432x288 with 1 Axes>"
      ]
     },
     "metadata": {},
     "output_type": "display_data"
    }
   ],
   "source": [
    "maxes = np.delete(argrelmax(np.array(data['U_A']), order=1)[0], (0, 7))\n",
    "plt.plot(data['U_B'], data['U_A'])\n",
    "plt.scatter(data.iloc[maxes]['U_B'], data.iloc[maxes]['U_A'], color='red', marker='x', label='Maxima')\n",
    "plt.xlabel('$U_B$[V]')\n",
    "plt.ylabel('$U_A$[V]')\n",
    "plt.savefig(os.path.join(PLOTS, 'aufg2.png'), dpi=200)"
   ]
  },
  {
   "cell_type": "code",
   "execution_count": 43,
   "metadata": {},
   "outputs": [
    {
     "data": {
      "text/html": [
       "<div>\n",
       "<style scoped>\n",
       "    .dataframe tbody tr th:only-of-type {\n",
       "        vertical-align: middle;\n",
       "    }\n",
       "\n",
       "    .dataframe tbody tr th {\n",
       "        vertical-align: top;\n",
       "    }\n",
       "\n",
       "    .dataframe thead th {\n",
       "        text-align: right;\n",
       "    }\n",
       "</style>\n",
       "<table border=\"1\" class=\"dataframe\">\n",
       "  <thead>\n",
       "    <tr style=\"text-align: right;\">\n",
       "      <th></th>\n",
       "      <th>U in Volt</th>\n",
       "      <th>U korrigiert</th>\n",
       "    </tr>\n",
       "  </thead>\n",
       "  <tbody>\n",
       "    <tr>\n",
       "      <th>1</th>\n",
       "      <td>4.680013</td>\n",
       "      <td>1.989013</td>\n",
       "    </tr>\n",
       "    <tr>\n",
       "      <th>2</th>\n",
       "      <td>8.603168</td>\n",
       "      <td>5.912168</td>\n",
       "    </tr>\n",
       "    <tr>\n",
       "      <th>3</th>\n",
       "      <td>9.820856</td>\n",
       "      <td>7.129856</td>\n",
       "    </tr>\n",
       "    <tr>\n",
       "      <th>4</th>\n",
       "      <td>13.040560</td>\n",
       "      <td>10.349560</td>\n",
       "    </tr>\n",
       "    <tr>\n",
       "      <th>5</th>\n",
       "      <td>14.972380</td>\n",
       "      <td>12.281380</td>\n",
       "    </tr>\n",
       "    <tr>\n",
       "      <th>6</th>\n",
       "      <td>16.824850</td>\n",
       "      <td>14.133850</td>\n",
       "    </tr>\n",
       "    <tr>\n",
       "      <th>7</th>\n",
       "      <td>21.811580</td>\n",
       "      <td>19.120580</td>\n",
       "    </tr>\n",
       "    <tr>\n",
       "      <th>8</th>\n",
       "      <td>23.589280</td>\n",
       "      <td>20.898280</td>\n",
       "    </tr>\n",
       "  </tbody>\n",
       "</table>\n",
       "</div>"
      ],
      "text/plain": [
       "   U in Volt  U korrigiert\n",
       "1   4.680013      1.989013\n",
       "2   8.603168      5.912168\n",
       "3   9.820856      7.129856\n",
       "4  13.040560     10.349560\n",
       "5  14.972380     12.281380\n",
       "6  16.824850     14.133850\n",
       "7  21.811580     19.120580\n",
       "8  23.589280     20.898280"
      ]
     },
     "execution_count": 43,
     "metadata": {},
     "output_type": "execute_result"
    }
   ],
   "source": [
    "data_ = pd.DataFrame({U korrigiert': np.array(data['U_B'].iloc[maxes])})\n",
    "data_.index += 1\n",
    "data_"
   ]
  },
  {
   "cell_type": "code",
   "execution_count": null,
   "metadata": {},
   "outputs": [],
   "source": []
  }
 ],
 "metadata": {
  "kernelspec": {
   "display_name": "Python 3",
   "language": "python",
   "name": "python3"
  },
  "language_info": {
   "codemirror_mode": {
    "name": "ipython",
    "version": 3
   },
   "file_extension": ".py",
   "mimetype": "text/x-python",
   "name": "python",
   "nbconvert_exporter": "python",
   "pygments_lexer": "ipython3",
   "version": "3.7.4"
  }
 },
 "nbformat": 4,
 "nbformat_minor": 4
}
