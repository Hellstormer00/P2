{
 "cells": [
  {
   "cell_type": "code",
   "execution_count": 2,
   "metadata": {},
   "outputs": [
    {
     "data": {
      "text/html": [
       "<div>\n",
       "<style scoped>\n",
       "    .dataframe tbody tr th:only-of-type {\n",
       "        vertical-align: middle;\n",
       "    }\n",
       "\n",
       "    .dataframe tbody tr th {\n",
       "        vertical-align: top;\n",
       "    }\n",
       "\n",
       "    .dataframe thead th {\n",
       "        text-align: right;\n",
       "    }\n",
       "</style>\n",
       "<table border=\"1\" class=\"dataframe\">\n",
       "  <thead>\n",
       "    <tr style=\"text-align: right;\">\n",
       "      <th></th>\n",
       "      <th>T[s]</th>\n",
       "      <th>dx[muM]</th>\n",
       "      <th>Ordnung</th>\n",
       "    </tr>\n",
       "  </thead>\n",
       "  <tbody>\n",
       "    <tr>\n",
       "      <th>0</th>\n",
       "      <td>12</td>\n",
       "      <td>3</td>\n",
       "      <td>19</td>\n",
       "    </tr>\n",
       "    <tr>\n",
       "      <th>1</th>\n",
       "      <td>20</td>\n",
       "      <td>10</td>\n",
       "      <td>32</td>\n",
       "    </tr>\n",
       "    <tr>\n",
       "      <th>2</th>\n",
       "      <td>30</td>\n",
       "      <td>17</td>\n",
       "      <td>52</td>\n",
       "    </tr>\n",
       "  </tbody>\n",
       "</table>\n",
       "</div>"
      ],
      "text/plain": [
       "   T[s]  dx[muM]  Ordnung\n",
       "0    12        3       19\n",
       "1    20       10       32\n",
       "2    30       17       52"
      ]
     },
     "execution_count": 2,
     "metadata": {},
     "output_type": "execute_result"
    }
   ],
   "source": [
    "import os\n",
    "from scipy.odr import *\n",
    "DIR = os.path.abspath('')\n",
    "DATA = os.path.join(DIR, '../Data/Aufg23.csv')\n",
    "PLOTS = os.path.join(DIR, '../Plots')\n",
    "\n",
    "sns.set_style('whitegrid')\n",
    "\n",
    "data = pd.read_csv(DATA, comment='#', engine='python')\n",
    "data.head(3)"
   ]
  },
  {
   "cell_type": "code",
   "execution_count": 3,
   "metadata": {},
   "outputs": [
    {
     "data": {
      "image/png": "[encoded data removed]",
      "text/plain": [
       "<Figure size 432x288 with 1 Axes>"
      ]
     },
     "metadata": {},
     "output_type": "display_data"
    }
   ],
   "source": [
    "sns.regplot(x='T[s]', y='Ordnung', data=data)\n",
    "plt.savefig(os.path.join(PLOTS, 'Aufg23_plot.png'), dpi=200)"
   ]
  },
  {
   "cell_type": "code",
   "execution_count": 20,
   "metadata": {},
   "outputs": [
    {
     "name": "stdout",
     "output_type": "stream",
     "text": [
      "v2 =  4.613888888888889e-07 +/- 1.0110691383229614e-07\n",
      "v1 =  [5.00768177e-07] +/- [1.98063076e-08]\n"
     ]
    },
    {
     "data": {
      "text/plain": [
       "array([1.582706])"
      ]
     },
     "execution_count": 20,
     "metadata": {},
     "output_type": "execute_result"
    }
   ],
   "source": [
    "def lin(B, x):\n",
    "    return B*x\n",
    "\n",
    "linear = Model(lin)\n",
    "\n",
    "l = 632.8e-9\n",
    "O_err = 8\n",
    "t_err = 1\n",
    "\n",
    "data_ = RealData(data['T[s]'], data['Ordnung'], t_err, O_err)\n",
    "\n",
    "odr = ODR(data_, linear, beta0=[1.5])\n",
    "output = odr.run()\n",
    "\n",
    "v2 = np.mean(data['dx[muM]']*10**-6/data['T[s]'])\n",
    "v2_err = np.std(data['dx[muM]']*10**-6/data['T[s]'])\n",
    "print(\"v2 = \", v2, \"+/-\", v2_err)\n",
    "print(\"v1 = \", l * output.beta / 2, \"+/-\", l * output.sd_beta / 2)"
   ]
  },
  {
   "cell_type": "code",
   "execution_count": null,
   "metadata": {},
   "outputs": [],
   "source": []
  }
 ],
 "metadata": {
  "kernelspec": {
   "display_name": "Python 3",
   "language": "python",
   "name": "python3"
  },
  "language_info": {
   "codemirror_mode": {
    "name": "ipython",
    "version": 3
   },
   "file_extension": ".py",
   "mimetype": "text/x-python",
   "name": "python",
   "nbconvert_exporter": "python",
   "pygments_lexer": "ipython3",
   "version": "3.7.4"
  }
 },
 "nbformat": 4,
 "nbformat_minor": 4
}
