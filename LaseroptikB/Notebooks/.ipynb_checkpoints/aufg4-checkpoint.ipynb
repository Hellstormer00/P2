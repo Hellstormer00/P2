{
 "cells": [
  {
   "cell_type": "code",
   "execution_count": 47,
   "metadata": {},
   "outputs": [
    {
     "data": {
      "text/html": [
       "<div>\n",
       "<style scoped>\n",
       "    .dataframe tbody tr th:only-of-type {\n",
       "        vertical-align: middle;\n",
       "    }\n",
       "\n",
       "    .dataframe tbody tr th {\n",
       "        vertical-align: top;\n",
       "    }\n",
       "\n",
       "    .dataframe thead th {\n",
       "        text-align: right;\n",
       "    }\n",
       "</style>\n",
       "<table border=\"1\" class=\"dataframe\">\n",
       "  <thead>\n",
       "    <tr style=\"text-align: right;\">\n",
       "      <th></th>\n",
       "      <th>Laenge</th>\n",
       "      <th>c[g/l]</th>\n",
       "      <th>Winkel[deg]</th>\n",
       "      <th>d[m]</th>\n",
       "      <th>c[g/cm^3]</th>\n",
       "      <th>delta</th>\n",
       "      <th>Hilfsgröße [deg/(g/cm^3 * m)]</th>\n",
       "    </tr>\n",
       "  </thead>\n",
       "  <tbody>\n",
       "    <tr>\n",
       "      <th>0</th>\n",
       "      <td>l</td>\n",
       "      <td>0</td>\n",
       "      <td>14</td>\n",
       "      <td>0.198</td>\n",
       "      <td>0.000</td>\n",
       "      <td>0</td>\n",
       "      <td>0.00000</td>\n",
       "    </tr>\n",
       "    <tr>\n",
       "      <th>1</th>\n",
       "      <td>l</td>\n",
       "      <td>300</td>\n",
       "      <td>36</td>\n",
       "      <td>0.198</td>\n",
       "      <td>0.300</td>\n",
       "      <td>22</td>\n",
       "      <td>0.05940</td>\n",
       "    </tr>\n",
       "    <tr>\n",
       "      <th>2</th>\n",
       "      <td>s</td>\n",
       "      <td>300</td>\n",
       "      <td>23</td>\n",
       "      <td>0.058</td>\n",
       "      <td>0.300</td>\n",
       "      <td>9</td>\n",
       "      <td>0.01740</td>\n",
       "    </tr>\n",
       "    <tr>\n",
       "      <th>3</th>\n",
       "      <td>l</td>\n",
       "      <td>200</td>\n",
       "      <td>35</td>\n",
       "      <td>0.198</td>\n",
       "      <td>0.200</td>\n",
       "      <td>21</td>\n",
       "      <td>0.03960</td>\n",
       "    </tr>\n",
       "    <tr>\n",
       "      <th>4</th>\n",
       "      <td>s</td>\n",
       "      <td>200</td>\n",
       "      <td>20</td>\n",
       "      <td>0.058</td>\n",
       "      <td>0.200</td>\n",
       "      <td>6</td>\n",
       "      <td>0.01160</td>\n",
       "    </tr>\n",
       "    <tr>\n",
       "      <th>5</th>\n",
       "      <td>l</td>\n",
       "      <td>150</td>\n",
       "      <td>27</td>\n",
       "      <td>0.198</td>\n",
       "      <td>0.150</td>\n",
       "      <td>13</td>\n",
       "      <td>0.02970</td>\n",
       "    </tr>\n",
       "    <tr>\n",
       "      <th>6</th>\n",
       "      <td>s</td>\n",
       "      <td>150</td>\n",
       "      <td>19</td>\n",
       "      <td>0.058</td>\n",
       "      <td>0.150</td>\n",
       "      <td>5</td>\n",
       "      <td>0.00870</td>\n",
       "    </tr>\n",
       "    <tr>\n",
       "      <th>7</th>\n",
       "      <td>l</td>\n",
       "      <td>120</td>\n",
       "      <td>26</td>\n",
       "      <td>0.198</td>\n",
       "      <td>0.120</td>\n",
       "      <td>12</td>\n",
       "      <td>0.02376</td>\n",
       "    </tr>\n",
       "    <tr>\n",
       "      <th>8</th>\n",
       "      <td>s</td>\n",
       "      <td>120</td>\n",
       "      <td>16</td>\n",
       "      <td>0.058</td>\n",
       "      <td>0.120</td>\n",
       "      <td>2</td>\n",
       "      <td>0.00696</td>\n",
       "    </tr>\n",
       "    <tr>\n",
       "      <th>9</th>\n",
       "      <td>l</td>\n",
       "      <td>100</td>\n",
       "      <td>24</td>\n",
       "      <td>0.198</td>\n",
       "      <td>0.100</td>\n",
       "      <td>10</td>\n",
       "      <td>0.01980</td>\n",
       "    </tr>\n",
       "    <tr>\n",
       "      <th>10</th>\n",
       "      <td>s</td>\n",
       "      <td>100</td>\n",
       "      <td>15</td>\n",
       "      <td>0.058</td>\n",
       "      <td>0.100</td>\n",
       "      <td>1</td>\n",
       "      <td>0.00580</td>\n",
       "    </tr>\n",
       "    <tr>\n",
       "      <th>11</th>\n",
       "      <td>l</td>\n",
       "      <td>85</td>\n",
       "      <td>22</td>\n",
       "      <td>0.198</td>\n",
       "      <td>0.085</td>\n",
       "      <td>8</td>\n",
       "      <td>0.01683</td>\n",
       "    </tr>\n",
       "    <tr>\n",
       "      <th>12</th>\n",
       "      <td>s</td>\n",
       "      <td>85</td>\n",
       "      <td>15</td>\n",
       "      <td>0.058</td>\n",
       "      <td>0.085</td>\n",
       "      <td>1</td>\n",
       "      <td>0.00493</td>\n",
       "    </tr>\n",
       "  </tbody>\n",
       "</table>\n",
       "</div>"
      ],
      "text/plain": [
       "   Laenge  c[g/l]  Winkel[deg]   d[m]  c[g/cm^3]  delta  \\\n",
       "0       l       0           14  0.198      0.000      0   \n",
       "1       l     300           36  0.198      0.300     22   \n",
       "2       s     300           23  0.058      0.300      9   \n",
       "3       l     200           35  0.198      0.200     21   \n",
       "4       s     200           20  0.058      0.200      6   \n",
       "5       l     150           27  0.198      0.150     13   \n",
       "6       s     150           19  0.058      0.150      5   \n",
       "7       l     120           26  0.198      0.120     12   \n",
       "8       s     120           16  0.058      0.120      2   \n",
       "9       l     100           24  0.198      0.100     10   \n",
       "10      s     100           15  0.058      0.100      1   \n",
       "11      l      85           22  0.198      0.085      8   \n",
       "12      s      85           15  0.058      0.085      1   \n",
       "\n",
       "    Hilfsgröße [deg/(g/cm^3 * m)]  \n",
       "0                         0.00000  \n",
       "1                         0.05940  \n",
       "2                         0.01740  \n",
       "3                         0.03960  \n",
       "4                         0.01160  \n",
       "5                         0.02970  \n",
       "6                         0.00870  \n",
       "7                         0.02376  \n",
       "8                         0.00696  \n",
       "9                         0.01980  \n",
       "10                        0.00580  \n",
       "11                        0.01683  \n",
       "12                        0.00493  "
      ]
     },
     "execution_count": 47,
     "metadata": {},
     "output_type": "execute_result"
    }
   ],
   "source": [
    "import os\n",
    "from scipy.odr import *\n",
    "DIR = os.path.abspath('')\n",
    "DATA = os.path.join(DIR, '../Data/Aufg41.csv')\n",
    "DATA2 = os.path.join(DIR, '../Data/Aufg42.csv')\n",
    "PLOTS = os.path.join(DIR, '../Plots')\n",
    "\n",
    "sns.set_style('whitegrid')\n",
    "\n",
    "data = pd.read_csv(DATA, comment='#', engine='python')\n",
    "data['d[m]'] = data['Laenge'].replace(['l', 's'], [198e-3, 58e-3])\n",
    "data['c[g/cm^3]'] = data['c[g/l]'] / 1000\n",
    "data['delta'] = data['Winkel[deg]'] - 14\n",
    "data['Hilfsgröße [deg/(g/cm^3 * m)]'] = data['d[m]']*data['c[g/cm^3]']\n",
    "data"
   ]
  },
  {
   "cell_type": "code",
   "execution_count": 41,
   "metadata": {},
   "outputs": [
    {
     "data": {
      "image/png": "[encoded data removed]",
      "text/plain": [
       "<Figure size 401.375x360 with 1 Axes>"
      ]
     },
     "metadata": {},
     "output_type": "display_data"
    }
   ],
   "source": [
    "g = sns.lmplot(x=\"c[g/cm^3]\", y=\"Winkel[deg]\", hue=\"Laenge\", data=data)\n",
    "new_labels = ['Lang', 'Kurz']\n",
    "for t, l in zip(g._legend.texts, new_labels):\n",
    "    t.set_text(l)\n",
    "plt.savefig(os.path.join(PLOTS, \"aufg41_unnötig.png\"), dpi=200)"
   ]
  },
  {
   "cell_type": "code",
   "execution_count": 58,
   "metadata": {},
   "outputs": [
    {
     "data": {
      "image/png": "[encoded data removed]",
      "text/plain": [
       "<Figure size 432x288 with 1 Axes>"
      ]
     },
     "metadata": {},
     "output_type": "display_data"
    }
   ],
   "source": [
    "g = sns.regplot(x=\"Hilfsgröße [deg/(g/cm^3 * m)]\", y=\"delta\", data=data)\n",
    "plt.ylabel(\"Delta[deg]\")\n",
    "plt.savefig(os.path.join(PLOTS, \"aufg41_regression.png\"), dpi=200)"
   ]
  },
  {
   "cell_type": "code",
   "execution_count": 50,
   "metadata": {},
   "outputs": [
    {
     "name": "stdout",
     "output_type": "stream",
     "text": [
      "[delta] = 452.136 +/- 24.345 deg/(g/cm^3 * m)\n"
     ]
    }
   ],
   "source": [
    "def lin(B, x):\n",
    "    return B*x\n",
    "\n",
    "linear = Model(lin)\n",
    "\n",
    "delta_err = 0.5  # deg\n",
    "c_err = 0.01  # g/cm^3\n",
    "cd_err = c_err * data['d[m]']\n",
    "\n",
    "data_ = RealData(data['d[m]']*data['c[g/cm^3]'], data['delta'], cd_err, delta_err)\n",
    "\n",
    "odr = ODR(data_, linear, beta0=[1])\n",
    "output = odr.run()\n",
    "\n",
    "print(\"[delta] = {:.3f} +/- {:.3f} deg/(g/cm^3 * m)\".format(*output.beta, *output.sd_beta))"
   ]
  },
  {
   "cell_type": "code",
   "execution_count": 54,
   "metadata": {},
   "outputs": [
    {
     "data": {
      "text/html": [
       "<div>\n",
       "<style scoped>\n",
       "    .dataframe tbody tr th:only-of-type {\n",
       "        vertical-align: middle;\n",
       "    }\n",
       "\n",
       "    .dataframe tbody tr th {\n",
       "        vertical-align: top;\n",
       "    }\n",
       "\n",
       "    .dataframe thead th {\n",
       "        text-align: right;\n",
       "    }\n",
       "</style>\n",
       "<table border=\"1\" class=\"dataframe\">\n",
       "  <thead>\n",
       "    <tr style=\"text-align: right;\">\n",
       "      <th></th>\n",
       "      <th>Laenge</th>\n",
       "      <th>c[g/cm3]</th>\n",
       "      <th>Winkel[deg]</th>\n",
       "      <th>d[m]</th>\n",
       "      <th>delta</th>\n",
       "      <th>Hilfsgröße [deg/(g/cm^3 * m)]</th>\n",
       "    </tr>\n",
       "  </thead>\n",
       "  <tbody>\n",
       "    <tr>\n",
       "      <th>0</th>\n",
       "      <td>l</td>\n",
       "      <td>0.00</td>\n",
       "      <td>14</td>\n",
       "      <td>0.198</td>\n",
       "      <td>0</td>\n",
       "      <td>0.00000</td>\n",
       "    </tr>\n",
       "    <tr>\n",
       "      <th>1</th>\n",
       "      <td>l</td>\n",
       "      <td>0.33</td>\n",
       "      <td>-3</td>\n",
       "      <td>0.198</td>\n",
       "      <td>-17</td>\n",
       "      <td>0.06534</td>\n",
       "    </tr>\n",
       "    <tr>\n",
       "      <th>2</th>\n",
       "      <td>s</td>\n",
       "      <td>0.33</td>\n",
       "      <td>4</td>\n",
       "      <td>0.058</td>\n",
       "      <td>-10</td>\n",
       "      <td>0.01914</td>\n",
       "    </tr>\n",
       "  </tbody>\n",
       "</table>\n",
       "</div>"
      ],
      "text/plain": [
       "  Laenge  c[g/cm3]  Winkel[deg]   d[m]  delta  Hilfsgröße [deg/(g/cm^3 * m)]\n",
       "0      l      0.00           14  0.198      0                        0.00000\n",
       "1      l      0.33           -3  0.198    -17                        0.06534\n",
       "2      s      0.33            4  0.058    -10                        0.01914"
      ]
     },
     "execution_count": 54,
     "metadata": {},
     "output_type": "execute_result"
    }
   ],
   "source": [
    "data = pd.read_csv(DATA2, comment='#', engine='python')\n",
    "data['d[m]'] = data['Laenge'].replace(['l', 's'], [198e-3, 58e-3])\n",
    "data['delta'] = data['Winkel[deg]'] - 14\n",
    "data['Hilfsgröße [deg/(g/cm^3 * m)]'] = data['d[m]']*data['c[g/cm3]']\n",
    "data"
   ]
  },
  {
   "cell_type": "code",
   "execution_count": 55,
   "metadata": {},
   "outputs": [
    {
     "data": {
      "image/png": "[encoded data removed]",
      "text/plain": [
       "<Figure size 432x288 with 1 Axes>"
      ]
     },
     "metadata": {},
     "output_type": "display_data"
    }
   ],
   "source": [
    "g = sns.regplot(x=\"Hilfsgröße [deg/(g/cm^3 * m)]\", y=\"delta\", data=data)\n",
    "plt.savefig(os.path.join(PLOTS, \"aufg42_regression.png\"), dpi=200)"
   ]
  },
  {
   "cell_type": "code",
   "execution_count": 57,
   "metadata": {},
   "outputs": [
    {
     "name": "stdout",
     "output_type": "stream",
     "text": [
      "[delta] = -308.466 +/- 72.699 deg/(g/cm^3 * m)\n"
     ]
    }
   ],
   "source": [
    "def lin(B, x):\n",
    "    return B*x\n",
    "\n",
    "linear = Model(lin)\n",
    "\n",
    "delta_err = 0.5  # deg\n",
    "c_err = 0.01  # g/cm^3\n",
    "cd_err = c_err * data['d[m]']\n",
    "\n",
    "data_ = RealData(data['Hilfsgröße [deg/(g/cm^3 * m)]'], data['delta'], cd_err, delta_err)\n",
    "\n",
    "odr = ODR(data_, linear, beta0=[100])\n",
    "output = odr.run()\n",
    "\n",
    "print(\"[delta] = {:.3f} +/- {:.3f} deg/(g/cm^3 * m)\".format(*output.beta, *output.sd_beta))"
   ]
  },
  {
   "cell_type": "code",
   "execution_count": null,
   "metadata": {},
   "outputs": [],
   "source": []
  }
 ],
 "metadata": {
  "kernelspec": {
   "display_name": "Python 3",
   "language": "python",
   "name": "python3"
  },
  "language_info": {
   "codemirror_mode": {
    "name": "ipython",
    "version": 3
   },
   "file_extension": ".py",
   "mimetype": "text/x-python",
   "name": "python",
   "nbconvert_exporter": "python",
   "pygments_lexer": "ipython3",
   "version": "3.7.4"
  }
 },
 "nbformat": 4,
 "nbformat_minor": 4
}
