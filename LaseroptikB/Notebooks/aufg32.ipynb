{
 "cells": [
  {
   "cell_type": "code",
   "execution_count": 7,
   "metadata": {},
   "outputs": [
    {
     "data": {
      "text/html": [
       "<div>\n",
       "<style scoped>\n",
       "    .dataframe tbody tr th:only-of-type {\n",
       "        vertical-align: middle;\n",
       "    }\n",
       "\n",
       "    .dataframe tbody tr th {\n",
       "        vertical-align: top;\n",
       "    }\n",
       "\n",
       "    .dataframe thead th {\n",
       "        text-align: right;\n",
       "    }\n",
       "</style>\n",
       "<table border=\"1\" class=\"dataframe\">\n",
       "  <thead>\n",
       "    <tr style=\"text-align: right;\">\n",
       "      <th></th>\n",
       "      <th>I[A]</th>\n",
       "      <th>dAng[Deg]</th>\n",
       "      <th>alpha[rad]</th>\n",
       "    </tr>\n",
       "  </thead>\n",
       "  <tbody>\n",
       "    <tr>\n",
       "      <th>0</th>\n",
       "      <td>0.930</td>\n",
       "      <td>-1</td>\n",
       "      <td>0.017453</td>\n",
       "    </tr>\n",
       "    <tr>\n",
       "      <th>1</th>\n",
       "      <td>2.027</td>\n",
       "      <td>-3</td>\n",
       "      <td>0.052360</td>\n",
       "    </tr>\n",
       "    <tr>\n",
       "      <th>2</th>\n",
       "      <td>3.000</td>\n",
       "      <td>-4</td>\n",
       "      <td>0.069813</td>\n",
       "    </tr>\n",
       "  </tbody>\n",
       "</table>\n",
       "</div>"
      ],
      "text/plain": [
       "    I[A]  dAng[Deg]  alpha[rad]\n",
       "0  0.930         -1    0.017453\n",
       "1  2.027         -3    0.052360\n",
       "2  3.000         -4    0.069813"
      ]
     },
     "execution_count": 7,
     "metadata": {},
     "output_type": "execute_result"
    }
   ],
   "source": [
    "import os\n",
    "from scipy.odr import *\n",
    "DIR = os.path.abspath('')\n",
    "DATA = os.path.join(DIR, '../Data/Aufg32.csv')\n",
    "PLOTS = os.path.join(DIR, '../Plots')\n",
    "\n",
    "sns.set_style('whitegrid')\n",
    "\n",
    "data = pd.read_csv(DATA, comment='#', engine='python')\n",
    "data['alpha[rad]'] = -np.radians(data['dAng[Deg]'])\n",
    "data.head(3)"
   ]
  },
  {
   "cell_type": "code",
   "execution_count": 15,
   "metadata": {},
   "outputs": [
    {
     "data": {
      "image/png": "[encoded data removed]",
      "text/plain": [
       "<Figure size 432x288 with 1 Axes>"
      ]
     },
     "metadata": {},
     "output_type": "display_data"
    }
   ],
   "source": [
    "sns.regplot('I[A]', 'alpha[rad]', data)\n",
    "plt.ylabel('α[rad]')\n",
    "plt.savefig(os.path.join(PLOTS, \"aufg32.png\"), dpi=200)"
   ]
  },
  {
   "cell_type": "code",
   "execution_count": 14,
   "metadata": {},
   "outputs": [
    {
     "name": "stdout",
     "output_type": "stream",
     "text": [
      "V = 18.421 +/- 2.917\n"
     ]
    },
    {
     "data": {
      "text/plain": [
       "array([0.01852445])"
      ]
     },
     "execution_count": 14,
     "metadata": {},
     "output_type": "execute_result"
    }
   ],
   "source": [
    "def lin(B, x):\n",
    "    return B[0]*x\n",
    "\n",
    "linear = Model(lin)\n",
    "\n",
    "mu0 = 1.257e-6\n",
    "N = 800\n",
    "alpha_err = np.radians(0.5)\n",
    "I_err = 0.04  # A\n",
    "\n",
    "V = lambda beta : beta / (mu0 * N)\n",
    "\n",
    "data_ = RealData(data['I[A]'], data['alpha[rad]'], I_err, alpha_err)\n",
    "\n",
    "odr = ODR(data_, linear, beta0=[1])\n",
    "output = odr.run()\n",
    "\n",
    "print(\"V = {:.3f} +/- {:.3f}\".format(V(*output.beta), V(*output.sd_beta)))"
   ]
  },
  {
   "cell_type": "code",
   "execution_count": null,
   "metadata": {},
   "outputs": [],
   "source": []
  }
 ],
 "metadata": {
  "kernelspec": {
   "display_name": "Python 3",
   "language": "python",
   "name": "python3"
  },
  "language_info": {
   "codemirror_mode": {
    "name": "ipython",
    "version": 3
   },
   "file_extension": ".py",
   "mimetype": "text/x-python",
   "name": "python",
   "nbconvert_exporter": "python",
   "pygments_lexer": "ipython3",
   "version": "3.7.4"
  }
 },
 "nbformat": 4,
 "nbformat_minor": 4
}
