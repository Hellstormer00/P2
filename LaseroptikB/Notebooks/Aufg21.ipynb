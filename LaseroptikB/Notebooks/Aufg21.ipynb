{
 "cells": [
  {
   "cell_type": "code",
   "execution_count": 2,
   "metadata": {},
   "outputs": [
    {
     "data": {
      "text/html": [
       "<div>\n",
       "<style scoped>\n",
       "    .dataframe tbody tr th:only-of-type {\n",
       "        vertical-align: middle;\n",
       "    }\n",
       "\n",
       "    .dataframe tbody tr th {\n",
       "        vertical-align: top;\n",
       "    }\n",
       "\n",
       "    .dataframe thead th {\n",
       "        text-align: right;\n",
       "    }\n",
       "</style>\n",
       "<table border=\"1\" class=\"dataframe\">\n",
       "  <thead>\n",
       "    <tr style=\"text-align: right;\">\n",
       "      <th></th>\n",
       "      <th>I[A]</th>\n",
       "      <th>O</th>\n",
       "    </tr>\n",
       "  </thead>\n",
       "  <tbody>\n",
       "    <tr>\n",
       "      <th>0</th>\n",
       "      <td>-0.425</td>\n",
       "      <td>-5</td>\n",
       "    </tr>\n",
       "    <tr>\n",
       "      <th>1</th>\n",
       "      <td>-0.365</td>\n",
       "      <td>-4</td>\n",
       "    </tr>\n",
       "    <tr>\n",
       "      <th>2</th>\n",
       "      <td>-0.252</td>\n",
       "      <td>-3</td>\n",
       "    </tr>\n",
       "  </tbody>\n",
       "</table>\n",
       "</div>"
      ],
      "text/plain": [
       "    I[A]  O\n",
       "0 -0.425 -5\n",
       "1 -0.365 -4\n",
       "2 -0.252 -3"
      ]
     },
     "execution_count": 2,
     "metadata": {},
     "output_type": "execute_result"
    }
   ],
   "source": [
    "import os\n",
    "from scipy.odr import *\n",
    "DIR = os.path.abspath('')\n",
    "DATA = os.path.join(DIR, '../Data/Aufg21.csv')\n",
    "PLOTS = os.path.join(DIR, '../Plots')\n",
    "\n",
    "sns.set_style('whitegrid')\n",
    "\n",
    "data = pd.read_csv(DATA, comment='#', engine='python')\n",
    "data['O'] = np.arange(-5,11)\n",
    "data.head(3)"
   ]
  },
  {
   "cell_type": "code",
   "execution_count": 3,
   "metadata": {},
   "outputs": [
    {
     "data": {
      "image/png": "[encoded data removed]",
      "text/plain": [
       "<Figure size 432x288 with 1 Axes>"
      ]
     },
     "metadata": {},
     "output_type": "display_data"
    }
   ],
   "source": [
    "sns.regplot(x='O', y='I[A]', data=data, marker='x')\n",
    "plt.xlabel('Ordnung')\n",
    "plt.savefig(os.path.join(PLOTS, 'Aufg21'), dpi=200)"
   ]
  },
  {
   "cell_type": "code",
   "execution_count": 69,
   "metadata": {},
   "outputs": [
    {
     "name": "stdout",
     "output_type": "stream",
     "text": [
      "c =  [2.66507955e-09] +/- [1.27183553e-10]\n"
     ]
    }
   ],
   "source": [
    "def lin(B, x):\n",
    "    return B*x\n",
    "\n",
    "def to_c(lmbda, N, fit):\n",
    "    return lmbda / (2 * N * fit)\n",
    "\n",
    "def to_dc(lmbda, N, fit, dfit):\n",
    "    return lmbda * dfit / (2 * N * fit**2) \n",
    "\n",
    "linear = Model(lin)\n",
    "\n",
    "N = 2000\n",
    "lmbda = 632.8e-9  # m\n",
    "m_err = 2\n",
    "I_err = 0.04  # A\n",
    "\n",
    "# SCHAU DEFNITIV NOCHMAL DRÜBERE ;)\n",
    "data_ = Data(data['O'], data['I[A]'], m_err, I_err)\n",
    "odr = ODR(data_, linear, beta0=[1e-9])\n",
    "output = odr.run()\n",
    "print(\"c = \", to_c(lmbda, N, output.beta), \"+/-\", to_dc(lmbda, N, output.beta, output.sd_beta))"
   ]
  },
  {
   "cell_type": "code",
   "execution_count": null,
   "metadata": {},
   "outputs": [],
   "source": []
  }
 ],
 "metadata": {
  "kernelspec": {
   "display_name": "Python 3",
   "language": "python",
   "name": "python3"
  },
  "language_info": {
   "codemirror_mode": {
    "name": "ipython",
    "version": 3
   },
   "file_extension": ".py",
   "mimetype": "text/x-python",
   "name": "python",
   "nbconvert_exporter": "python",
   "pygments_lexer": "ipython3",
   "version": "3.7.4"
  }
 },
 "nbformat": 4,
 "nbformat_minor": 4
}
