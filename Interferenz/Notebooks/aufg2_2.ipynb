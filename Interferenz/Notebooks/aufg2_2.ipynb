{
 "cells": [
  {
   "cell_type": "code",
   "execution_count": 24,
   "metadata": {},
   "outputs": [
    {
     "data": {
      "text/html": [
       "<div>\n",
       "<style scoped>\n",
       "    .dataframe tbody tr th:only-of-type {\n",
       "        vertical-align: middle;\n",
       "    }\n",
       "\n",
       "    .dataframe tbody tr th {\n",
       "        vertical-align: top;\n",
       "    }\n",
       "\n",
       "    .dataframe thead th {\n",
       "        text-align: right;\n",
       "    }\n",
       "</style>\n",
       "<table border=\"1\" class=\"dataframe\">\n",
       "  <thead>\n",
       "    <tr style=\"text-align: right;\">\n",
       "      <th></th>\n",
       "      <th>Winkel[deg]</th>\n",
       "      <th>min</th>\n",
       "      <th>k</th>\n",
       "      <th>sin</th>\n",
       "    </tr>\n",
       "  </thead>\n",
       "  <tbody>\n",
       "    <tr>\n",
       "      <th>0</th>\n",
       "      <td>-44.0</td>\n",
       "      <td>15</td>\n",
       "      <td>-2</td>\n",
       "      <td>-0.694658</td>\n",
       "    </tr>\n",
       "    <tr>\n",
       "      <th>1</th>\n",
       "      <td>-19.5</td>\n",
       "      <td>12</td>\n",
       "      <td>-1</td>\n",
       "      <td>-0.333807</td>\n",
       "    </tr>\n",
       "    <tr>\n",
       "      <th>2</th>\n",
       "      <td>0.0</td>\n",
       "      <td>0</td>\n",
       "      <td>0</td>\n",
       "      <td>0.000000</td>\n",
       "    </tr>\n",
       "    <tr>\n",
       "      <th>3</th>\n",
       "      <td>22.0</td>\n",
       "      <td>10</td>\n",
       "      <td>1</td>\n",
       "      <td>0.374607</td>\n",
       "    </tr>\n",
       "    <tr>\n",
       "      <th>4</th>\n",
       "      <td>47.0</td>\n",
       "      <td>26</td>\n",
       "      <td>2</td>\n",
       "      <td>0.731354</td>\n",
       "    </tr>\n",
       "  </tbody>\n",
       "</table>\n",
       "</div>"
      ],
      "text/plain": [
       "   Winkel[deg]  min  k       sin\n",
       "0        -44.0   15 -2 -0.694658\n",
       "1        -19.5   12 -1 -0.333807\n",
       "2          0.0    0  0  0.000000\n",
       "3         22.0   10  1  0.374607\n",
       "4         47.0   26  2  0.731354"
      ]
     },
     "execution_count": 24,
     "metadata": {},
     "output_type": "execute_result"
    }
   ],
   "source": [
    "import os\n",
    "DIR = os.path.abspath('')\n",
    "DATA = os.path.join(DIR, '../Data')\n",
    "PLOTS = os.path.join(DIR, '../Plots')\n",
    "\n",
    "sns.set_style('whitegrid')\n",
    "\n",
    "data = pd.read_csv(os.path.join(DATA, 'aufg2_2.csv'), comment='#', engine='python')\n",
    "data['k'] = data.index - 2\n",
    "data['sin'] = np.sin(np.radians(data['Winkel[deg]']))\n",
    "data"
   ]
  },
  {
   "cell_type": "code",
   "execution_count": 32,
   "metadata": {},
   "outputs": [
    {
     "data": {
      "image/png": "[encoded data removed]",
      "text/plain": [
       "<Figure size 432x288 with 1 Axes>"
      ]
     },
     "metadata": {},
     "output_type": "display_data"
    }
   ],
   "source": [
    "sns.regplot('k', 'sin', data)\n",
    "plt.ylabel(\"sin( alpha )\")\n",
    "plt.savefig(os.path.join(PLOTS, 'aufg2_2.png'), dpi=200)"
   ]
  },
  {
   "cell_type": "code",
   "execution_count": 39,
   "metadata": {},
   "outputs": [
    {
     "name": "stdout",
     "output_type": "stream",
     "text": [
      "g = 1.6551336288793457 1/mm\n"
     ]
    }
   ],
   "source": [
    "a = np.polyfit(data['k'], data['sin'], 1)[0]  # = l/g\n",
    "l = 589.3e-9\n",
    "print(\"g =\", l/a * 1e6, \"1/mm\")"
   ]
  }
 ],
 "metadata": {
  "kernelspec": {
   "display_name": "Python 3",
   "language": "python",
   "name": "python3"
  },
  "language_info": {
   "codemirror_mode": {
    "name": "ipython",
    "version": 3
   },
   "file_extension": ".py",
   "mimetype": "text/x-python",
   "name": "python",
   "nbconvert_exporter": "python",
   "pygments_lexer": "ipython3",
   "version": "3.7.4"
  }
 },
 "nbformat": 4,
 "nbformat_minor": 4
}
