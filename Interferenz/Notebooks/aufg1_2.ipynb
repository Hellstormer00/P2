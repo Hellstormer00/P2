{
 "cells": [
  {
   "cell_type": "code",
   "execution_count": 5,
   "metadata": {},
   "outputs": [
    {
     "data": {
      "text/html": [
       "<div>\n",
       "<style scoped>\n",
       "    .dataframe tbody tr th:only-of-type {\n",
       "        vertical-align: middle;\n",
       "    }\n",
       "\n",
       "    .dataframe tbody tr th {\n",
       "        vertical-align: top;\n",
       "    }\n",
       "\n",
       "    .dataframe thead th {\n",
       "        text-align: right;\n",
       "    }\n",
       "</style>\n",
       "<table border=\"1\" class=\"dataframe\">\n",
       "  <thead>\n",
       "    <tr style=\"text-align: right;\">\n",
       "      <th></th>\n",
       "      <th>r_k_1[mm]</th>\n",
       "      <th>r_k_2[mm]</th>\n",
       "    </tr>\n",
       "  </thead>\n",
       "  <tbody>\n",
       "    <tr>\n",
       "      <th>0</th>\n",
       "      <td>16.0</td>\n",
       "      <td>15.40</td>\n",
       "    </tr>\n",
       "    <tr>\n",
       "      <th>1</th>\n",
       "      <td>16.2</td>\n",
       "      <td>15.20</td>\n",
       "    </tr>\n",
       "    <tr>\n",
       "      <th>2</th>\n",
       "      <td>16.3</td>\n",
       "      <td>15.10</td>\n",
       "    </tr>\n",
       "    <tr>\n",
       "      <th>3</th>\n",
       "      <td>16.4</td>\n",
       "      <td>14.95</td>\n",
       "    </tr>\n",
       "  </tbody>\n",
       "</table>\n",
       "</div>"
      ],
      "text/plain": [
       "   r_k_1[mm]  r_k_2[mm]\n",
       "0       16.0      15.40\n",
       "1       16.2      15.20\n",
       "2       16.3      15.10\n",
       "3       16.4      14.95"
      ]
     },
     "execution_count": 5,
     "metadata": {},
     "output_type": "execute_result"
    }
   ],
   "source": [
    "import os\n",
    "DIR = os.path.abspath('')\n",
    "DATA = os.path.join(DIR, '../Data')\n",
    "PLOTS = os.path.join(DIR, '../Plots')\n",
    "\n",
    "sns.set_style('whitegrid')\n",
    "\n",
    "data = pd.read_csv(os.path.join(DATA, 'aufg1_2_gelb.csv'), comment='#', engine='python')\n",
    "data"
   ]
  },
  {
   "cell_type": "code",
   "execution_count": 6,
   "metadata": {},
   "outputs": [],
   "source": [
    "def prep(data):\n",
    "    data['r_k[mm]^2'] = (abs(data['r_k_1[mm]'] - data['r_k_2[mm]'])/2)**2\n",
    "    data['k'] = data.index + 1\n",
    "\n",
    "def plot(data, name):\n",
    "    sns.regplot('k', 'r_k[mm]^2', data)\n",
    "    plt.ylabel('$r_k^2[mm^2]$')\n",
    "    plt.savefig(os.path.join(PLOTS, name), dpi=200)\n",
    "\n",
    "def n(data, l0, R):\n",
    "    p = np.polyfit(data['k'], data['r_k[mm]^2'], 1)[0]\n",
    "    print(\"n_wasser =\", l0*R/p)"
   ]
  },
  {
   "cell_type": "code",
   "execution_count": 8,
   "metadata": {},
   "outputs": [
    {
     "name": "stdout",
     "output_type": "stream",
     "text": [
      "n_wasser = 1.2533921482134989\n"
     ]
    },
    {
     "data": {
      "image/png": "[encoded data removed]",
      "text/plain": [
       "<Figure size 432x288 with 1 Axes>"
      ]
     },
     "metadata": {},
     "output_type": "display_data"
    }
   ],
   "source": [
    "prep(data)\n",
    "plot(data, 'aufg_1_2.png')\n",
    "n(data, 590e-6, 301)"
   ]
  },
  {
   "cell_type": "code",
   "execution_count": null,
   "metadata": {},
   "outputs": [],
   "source": []
  }
 ],
 "metadata": {
  "kernelspec": {
   "display_name": "Python 3",
   "language": "python",
   "name": "python3"
  },
  "language_info": {
   "codemirror_mode": {
    "name": "ipython",
    "version": 3
   },
   "file_extension": ".py",
   "mimetype": "text/x-python",
   "name": "python",
   "nbconvert_exporter": "python",
   "pygments_lexer": "ipython3",
   "version": "3.7.4"
  }
 },
 "nbformat": 4,
 "nbformat_minor": 4
}
