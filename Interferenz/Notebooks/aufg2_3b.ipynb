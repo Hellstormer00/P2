{
 "cells": [
  {
   "cell_type": "code",
   "execution_count": 10,
   "metadata": {},
   "outputs": [
    {
     "data": {
      "text/html": [
       "<div>\n",
       "<style scoped>\n",
       "    .dataframe tbody tr th:only-of-type {\n",
       "        vertical-align: middle;\n",
       "    }\n",
       "\n",
       "    .dataframe tbody tr th {\n",
       "        vertical-align: top;\n",
       "    }\n",
       "\n",
       "    .dataframe thead th {\n",
       "        text-align: right;\n",
       "    }\n",
       "</style>\n",
       "<table border=\"1\" class=\"dataframe\">\n",
       "  <thead>\n",
       "    <tr style=\"text-align: right;\">\n",
       "      <th></th>\n",
       "      <th>Grad[deg]</th>\n",
       "      <th>min[min]</th>\n",
       "      <th>k</th>\n",
       "      <th>alpha[deg]</th>\n",
       "    </tr>\n",
       "  </thead>\n",
       "  <tbody>\n",
       "    <tr>\n",
       "      <th>0</th>\n",
       "      <td>30.0</td>\n",
       "      <td>0</td>\n",
       "      <td>-5</td>\n",
       "      <td>-30.000000</td>\n",
       "    </tr>\n",
       "    <tr>\n",
       "      <th>1</th>\n",
       "      <td>23.5</td>\n",
       "      <td>14</td>\n",
       "      <td>-4</td>\n",
       "      <td>-23.733333</td>\n",
       "    </tr>\n",
       "    <tr>\n",
       "      <th>2</th>\n",
       "      <td>17.0</td>\n",
       "      <td>5</td>\n",
       "      <td>-3</td>\n",
       "      <td>-17.083333</td>\n",
       "    </tr>\n",
       "    <tr>\n",
       "      <th>3</th>\n",
       "      <td>13.0</td>\n",
       "      <td>10</td>\n",
       "      <td>-2</td>\n",
       "      <td>-13.166667</td>\n",
       "    </tr>\n",
       "    <tr>\n",
       "      <th>4</th>\n",
       "      <td>6.5</td>\n",
       "      <td>4</td>\n",
       "      <td>-1</td>\n",
       "      <td>-6.566667</td>\n",
       "    </tr>\n",
       "    <tr>\n",
       "      <th>5</th>\n",
       "      <td>0.0</td>\n",
       "      <td>0</td>\n",
       "      <td>0</td>\n",
       "      <td>-0.000000</td>\n",
       "    </tr>\n",
       "    <tr>\n",
       "      <th>6</th>\n",
       "      <td>-4.5</td>\n",
       "      <td>27</td>\n",
       "      <td>1</td>\n",
       "      <td>4.050000</td>\n",
       "    </tr>\n",
       "    <tr>\n",
       "      <th>7</th>\n",
       "      <td>-10.0</td>\n",
       "      <td>20</td>\n",
       "      <td>2</td>\n",
       "      <td>9.666667</td>\n",
       "    </tr>\n",
       "    <tr>\n",
       "      <th>8</th>\n",
       "      <td>-15.5</td>\n",
       "      <td>13</td>\n",
       "      <td>3</td>\n",
       "      <td>15.283333</td>\n",
       "    </tr>\n",
       "    <tr>\n",
       "      <th>9</th>\n",
       "      <td>-17.5</td>\n",
       "      <td>13</td>\n",
       "      <td>4</td>\n",
       "      <td>17.283333</td>\n",
       "    </tr>\n",
       "    <tr>\n",
       "      <th>10</th>\n",
       "      <td>-23.0</td>\n",
       "      <td>2</td>\n",
       "      <td>5</td>\n",
       "      <td>22.966667</td>\n",
       "    </tr>\n",
       "    <tr>\n",
       "      <th>11</th>\n",
       "      <td>-27.5</td>\n",
       "      <td>4</td>\n",
       "      <td>6</td>\n",
       "      <td>27.433333</td>\n",
       "    </tr>\n",
       "  </tbody>\n",
       "</table>\n",
       "</div>"
      ],
      "text/plain": [
       "    Grad[deg]  min[min]  k  alpha[deg]\n",
       "0        30.0         0 -5  -30.000000\n",
       "1        23.5        14 -4  -23.733333\n",
       "2        17.0         5 -3  -17.083333\n",
       "3        13.0        10 -2  -13.166667\n",
       "4         6.5         4 -1   -6.566667\n",
       "5         0.0         0  0   -0.000000\n",
       "6        -4.5        27  1    4.050000\n",
       "7       -10.0        20  2    9.666667\n",
       "8       -15.5        13  3   15.283333\n",
       "9       -17.5        13  4   17.283333\n",
       "10      -23.0         2  5   22.966667\n",
       "11      -27.5         4  6   27.433333"
      ]
     },
     "execution_count": 10,
     "metadata": {},
     "output_type": "execute_result"
    }
   ],
   "source": [
    "import os\n",
    "DIR = os.path.abspath('')\n",
    "DATA = os.path.join(DIR, '../Data')\n",
    "PLOTS = os.path.join(DIR, '../Plots')\n",
    "\n",
    "sns.set_style('whitegrid')\n",
    "\n",
    "def to_degree(min):\n",
    "    return min/60\n",
    "\n",
    "data = pd.read_csv(os.path.join(DATA, 'auf2_4.csv'), comment='#', engine='python')\n",
    "data['k'] = data.index - 5\n",
    "data['alpha[deg]'] = -(data['Grad[deg]'] + to_degree(data['min[min]']))\n",
    "data"
   ]
  },
  {
   "cell_type": "code",
   "execution_count": 12,
   "metadata": {},
   "outputs": [
    {
     "data": {
      "image/png": "[encoded data removed]",
      "text/plain": [
       "<Figure size 432x288 with 1 Axes>"
      ]
     },
     "metadata": {},
     "output_type": "display_data"
    }
   ],
   "source": [
    "sns.regplot('k', 'alpha[deg]', data)\n",
    "plt.savefig(os.path.join(PLOTS, 'zweites_gitter.png'), dpi=200)"
   ]
  },
  {
   "cell_type": "code",
   "execution_count": 13,
   "metadata": {},
   "outputs": [
    {
     "name": "stdout",
     "output_type": "stream",
     "text": [
      "g = 0.11329391203029424 1/mm\n"
     ]
    }
   ],
   "source": [
    "a = np.polyfit(data['k'], data['alpha[deg]'], 1)[0]  # = l/g\n",
    "l = 589.3e-9\n",
    "print(\"g =\", l/a * 1e6, \"1/mm\")"
   ]
  },
  {
   "cell_type": "code",
   "execution_count": null,
   "metadata": {},
   "outputs": [],
   "source": []
  }
 ],
 "metadata": {
  "kernelspec": {
   "display_name": "Python 3",
   "language": "python",
   "name": "python3"
  },
  "language_info": {
   "codemirror_mode": {
    "name": "ipython",
    "version": 3
   },
   "file_extension": ".py",
   "mimetype": "text/x-python",
   "name": "python",
   "nbconvert_exporter": "python",
   "pygments_lexer": "ipython3",
   "version": "3.7.4"
  }
 },
 "nbformat": 4,
 "nbformat_minor": 4
}
