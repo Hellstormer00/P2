{
 "cells": [
  {
   "cell_type": "code",
   "execution_count": 1,
   "metadata": {},
   "outputs": [
    {
     "output_type": "execute_result",
     "data": {
      "text/plain": "    T/K   I/mA\n0   0.0  0.170\n1  -5.0  0.166\n2 -10.0  0.164\n3 -15.0  0.162\n4 -20.0  0.160",
      "text/html": "<div>\n<style scoped>\n    .dataframe tbody tr th:only-of-type {\n        vertical-align: middle;\n    }\n\n    .dataframe tbody tr th {\n        vertical-align: top;\n    }\n\n    .dataframe thead th {\n        text-align: right;\n    }\n</style>\n<table border=\"1\" class=\"dataframe\">\n  <thead>\n    <tr style=\"text-align: right;\">\n      <th></th>\n      <th>T/K</th>\n      <th>I/mA</th>\n    </tr>\n  </thead>\n  <tbody>\n    <tr>\n      <th>0</th>\n      <td>0.0</td>\n      <td>0.170</td>\n    </tr>\n    <tr>\n      <th>1</th>\n      <td>-5.0</td>\n      <td>0.166</td>\n    </tr>\n    <tr>\n      <th>2</th>\n      <td>-10.0</td>\n      <td>0.164</td>\n    </tr>\n    <tr>\n      <th>3</th>\n      <td>-15.0</td>\n      <td>0.162</td>\n    </tr>\n    <tr>\n      <th>4</th>\n      <td>-20.0</td>\n      <td>0.160</td>\n    </tr>\n  </tbody>\n</table>\n</div>"
     },
     "metadata": {},
     "execution_count": 1
    }
   ],
   "source": [
    "data = pd.read_csv(\"../Data/Supra.csv\")\n",
    "sns.set_style(\"whitegrid\")\n",
    "data = data.astype('float')\n",
    "data.head()"
   ]
  },
  {
   "cell_type": "code",
   "execution_count": 28,
   "metadata": {},
   "outputs": [],
   "source": [
    "data[\"T/K\"] += 273"
   ]
  },
  {
   "cell_type": "code",
   "execution_count": 29,
   "metadata": {},
   "outputs": [
    {
     "data": {
      "image/png": "[encoded data removed]",
      "text/plain": [
       "<Figure size 432x288 with 1 Axes>"
      ]
     },
     "metadata": {},
     "output_type": "display_data"
    }
   ],
   "source": [
    "p = sns.scatterplot(x=\"T/K\", y=\"I/mA\", data=data)\n",
    "for item in p.get_xticklabels():\n",
    "    item.set_rotation(45)\n",
    "plt.savefig(\"../Plots/Supra_plot\", dpi=300)"
   ]
  },
  {
   "cell_type": "code",
   "execution_count": null,
   "metadata": {},
   "outputs": [],
   "source": []
  }
 ],
 "metadata": {
  "kernelspec": {
   "display_name": "Python 3",
   "language": "python",
   "name": "python3"
  },
  "language_info": {
   "codemirror_mode": {
    "name": "ipython",
    "version": 3
   },
   "file_extension": ".py",
   "mimetype": "text/x-python",
   "name": "python",
   "nbconvert_exporter": "python",
   "pygments_lexer": "ipython3",
   "version": "3.7.5-final"
  }
 },
 "nbformat": 4,
 "nbformat_minor": 4
}